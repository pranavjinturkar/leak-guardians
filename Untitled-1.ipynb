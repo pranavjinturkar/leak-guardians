{
 "cells": [
  {
   "cell_type": "code",
   "execution_count": 1,
   "metadata": {},
   "outputs": [
    {
     "name": "stdout",
     "output_type": "stream",
     "text": [
      "WARNING:tensorflow:From c:\\Users\\CHIT\\anaconda3\\envs\\pyt\\lib\\site-packages\\keras\\src\\losses.py:2976: The name tf.losses.sparse_softmax_cross_entropy is deprecated. Please use tf.compat.v1.losses.sparse_softmax_cross_entropy instead.\n",
      "\n",
      "X_train shape: (720, 6, 1)\n",
      "X_test shape: (180, 6, 1)\n",
      "WARNING:tensorflow:From c:\\Users\\CHIT\\anaconda3\\envs\\pyt\\lib\\site-packages\\keras\\src\\layers\\rnn\\simple_rnn.py:130: The name tf.executing_eagerly_outside_functions is deprecated. Please use tf.compat.v1.executing_eagerly_outside_functions instead.\n",
      "\n",
      "WARNING:tensorflow:From c:\\Users\\CHIT\\anaconda3\\envs\\pyt\\lib\\site-packages\\keras\\src\\optimizers\\__init__.py:309: The name tf.train.Optimizer is deprecated. Please use tf.compat.v1.train.Optimizer instead.\n",
      "\n",
      "Epoch 1/30\n",
      "WARNING:tensorflow:From c:\\Users\\CHIT\\anaconda3\\envs\\pyt\\lib\\site-packages\\keras\\src\\utils\\tf_utils.py:492: The name tf.ragged.RaggedTensorValue is deprecated. Please use tf.compat.v1.ragged.RaggedTensorValue instead.\n",
      "\n",
      "WARNING:tensorflow:From c:\\Users\\CHIT\\anaconda3\\envs\\pyt\\lib\\site-packages\\keras\\src\\engine\\base_layer_utils.py:384: The name tf.executing_eagerly_outside_functions is deprecated. Please use tf.compat.v1.executing_eagerly_outside_functions instead.\n",
      "\n",
      "9/9 [==============================] - 1s 29ms/step - loss: 0.7398 - accuracy: 0.5451 - val_loss: 0.6670 - val_accuracy: 0.9236\n",
      "Epoch 2/30\n",
      "9/9 [==============================] - 0s 4ms/step - loss: 0.5484 - accuracy: 0.9462 - val_loss: 0.5778 - val_accuracy: 0.9653\n",
      "Epoch 3/30\n",
      "9/9 [==============================] - 0s 5ms/step - loss: 0.4553 - accuracy: 0.9462 - val_loss: 0.4986 - val_accuracy: 0.8889\n",
      "Epoch 4/30\n",
      "9/9 [==============================] - 0s 5ms/step - loss: 0.3905 - accuracy: 0.8715 - val_loss: 0.4764 - val_accuracy: 0.7431\n",
      "Epoch 5/30\n",
      "9/9 [==============================] - 0s 5ms/step - loss: 0.3658 - accuracy: 0.8142 - val_loss: 0.5581 - val_accuracy: 0.7292\n",
      "Epoch 6/30\n",
      "9/9 [==============================] - 0s 5ms/step - loss: 0.4041 - accuracy: 0.8194 - val_loss: 0.4399 - val_accuracy: 0.8403\n",
      "Epoch 7/30\n",
      "9/9 [==============================] - 0s 5ms/step - loss: 0.4587 - accuracy: 0.8368 - val_loss: 0.6070 - val_accuracy: 0.7292\n",
      "Epoch 8/30\n",
      "9/9 [==============================] - 0s 5ms/step - loss: 4.5306 - accuracy: 0.8056 - val_loss: 13.5350 - val_accuracy: 0.0347\n",
      "Epoch 9/30\n",
      "9/9 [==============================] - 0s 5ms/step - loss: 7.1868 - accuracy: 0.7500 - val_loss: 32.4435 - val_accuracy: 0.0347\n",
      "Epoch 10/30\n",
      "9/9 [==============================] - 0s 5ms/step - loss: 21.0211 - accuracy: 0.7500 - val_loss: 1.1025 - val_accuracy: 0.5486\n",
      "Epoch 11/30\n",
      "9/9 [==============================] - 0s 5ms/step - loss: 57.9588 - accuracy: 0.7014 - val_loss: 80.6645 - val_accuracy: 0.9653\n",
      "Epoch 12/30\n",
      "9/9 [==============================] - 0s 5ms/step - loss: 118.5914 - accuracy: 0.8507 - val_loss: 713.6127 - val_accuracy: 0.0347\n",
      "Epoch 13/30\n",
      "9/9 [==============================] - 0s 5ms/step - loss: 347.3879 - accuracy: 0.7361 - val_loss: 125.5492 - val_accuracy: 0.9653\n",
      "Epoch 14/30\n",
      "9/9 [==============================] - 0s 5ms/step - loss: 1900.6177 - accuracy: 0.7535 - val_loss: 3120.2424 - val_accuracy: 0.9653\n",
      "Epoch 15/30\n",
      "9/9 [==============================] - 0s 5ms/step - loss: 3522.5720 - accuracy: 0.7361 - val_loss: 5626.7900 - val_accuracy: 0.9653\n",
      "Epoch 16/30\n",
      "9/9 [==============================] - 0s 5ms/step - loss: 6589.2954 - accuracy: 0.7396 - val_loss: 11818.8643 - val_accuracy: 0.9653\n",
      "Epoch 17/30\n",
      "9/9 [==============================] - 0s 5ms/step - loss: 4651.1997 - accuracy: 0.7569 - val_loss: 9629.7197 - val_accuracy: 0.9653\n",
      "Epoch 18/30\n",
      "9/9 [==============================] - 0s 5ms/step - loss: 9044.3174 - accuracy: 0.6285 - val_loss: 29356.6250 - val_accuracy: 0.9653\n",
      "Epoch 19/30\n",
      "9/9 [==============================] - 0s 4ms/step - loss: 47441.5156 - accuracy: 0.8576 - val_loss: 13360.9414 - val_accuracy: 0.9653\n",
      "Epoch 20/30\n",
      "9/9 [==============================] - 0s 5ms/step - loss: 21397.6074 - accuracy: 0.7639 - val_loss: 5510.0903 - val_accuracy: 0.9653\n",
      "Epoch 21/30\n",
      "9/9 [==============================] - 0s 4ms/step - loss: 27156.4902 - accuracy: 0.7639 - val_loss: 57081.8828 - val_accuracy: 0.9653\n",
      "Epoch 22/30\n",
      "9/9 [==============================] - 0s 5ms/step - loss: 104487.2812 - accuracy: 0.7500 - val_loss: 364607.1875 - val_accuracy: 0.9653\n",
      "Epoch 23/30\n",
      "9/9 [==============================] - 0s 5ms/step - loss: 224916.8906 - accuracy: 0.7535 - val_loss: 352565.5312 - val_accuracy: 0.9653\n",
      "Epoch 24/30\n",
      "9/9 [==============================] - 0s 5ms/step - loss: 325664.7188 - accuracy: 0.7431 - val_loss: 602857.1250 - val_accuracy: 0.9653\n",
      "Epoch 25/30\n",
      "9/9 [==============================] - 0s 5ms/step - loss: 431009.8438 - accuracy: 0.8438 - val_loss: 167745.0000 - val_accuracy: 0.9653\n",
      "Epoch 26/30\n",
      "9/9 [==============================] - 0s 5ms/step - loss: 301292.5625 - accuracy: 0.7535 - val_loss: 345737.1250 - val_accuracy: 0.9653\n",
      "Epoch 27/30\n",
      "9/9 [==============================] - 0s 5ms/step - loss: 426053.4375 - accuracy: 0.7639 - val_loss: 320232.7812 - val_accuracy: 0.9653\n",
      "Epoch 28/30\n",
      "9/9 [==============================] - 0s 5ms/step - loss: 591290.0000 - accuracy: 0.7500 - val_loss: 1488639.7500 - val_accuracy: 0.9653\n",
      "Epoch 29/30\n",
      "9/9 [==============================] - 0s 4ms/step - loss: 1123127.7500 - accuracy: 0.7500 - val_loss: 325020.8750 - val_accuracy: 0.9653\n",
      "Epoch 30/30\n",
      "9/9 [==============================] - 0s 5ms/step - loss: 1067005.7500 - accuracy: 0.7431 - val_loss: 1476255.5000 - val_accuracy: 0.9653\n",
      "6/6 [==============================] - 0s 1ms/step\n",
      "Accuracy: 0.9389\n",
      "Precision: 0.8815\n",
      "Recall: 0.9389\n"
     ]
    },
    {
     "name": "stderr",
     "output_type": "stream",
     "text": [
      "c:\\Users\\CHIT\\anaconda3\\envs\\pyt\\lib\\site-packages\\sklearn\\metrics\\_classification.py:1471: UndefinedMetricWarning: Precision is ill-defined and being set to 0.0 in labels with no predicted samples. Use `zero_division` parameter to control this behavior.\n",
      "  _warn_prf(average, modifier, msg_start, len(result))\n"
     ]
    }
   ],
   "source": [
    "import numpy as np\n",
    "import pandas as pd\n",
    "from sklearn.model_selection import train_test_split\n",
    "from sklearn.preprocessing import StandardScaler\n",
    "from sklearn.metrics import accuracy_score, precision_score, recall_score\n",
    "from tensorflow import keras\n",
    "from tensorflow.keras import layers\n",
    "\n",
    "# Read your dataset (replace 'your_dataset.csv' with your actual file)\n",
    "df = pd.read_csv('new data set  sih 2023.csv')\n",
    "\n",
    "# Select features and target variable\n",
    "X = df[['in_volume', 'in_flowrate', 'in_Pressure', 'out_Volume', 'out_flowrate', 'Pressure_out']]\n",
    "y = df[['1,0 for Volume', '1,0 for Pressure']]  # Assuming these are three separate columns\n",
    "\n",
    "# Assuming your target variable is multi-class; you should use one-hot encoding\n",
    "# If 'Output' is binary, you can skip this step\n",
    "y = pd.get_dummies(y)\n",
    "\n",
    "# Split the data into training and testing sets\n",
    "X_train, X_test, y_train, y_test = train_test_split(X, y, test_size=0.2, random_state=42)\n",
    "\n",
    "# Standardize the input features\n",
    "scaler = StandardScaler()\n",
    "X_train_scaled = scaler.fit_transform(X_train)\n",
    "X_test_scaled = scaler.transform(X_test)\n",
    "\n",
    "# Reshape the input features for RNN\n",
    "X_train_reshaped = X_train_scaled.reshape((X_train_scaled.shape[0], X_train_scaled.shape[1], 1))\n",
    "X_test_reshaped = X_test_scaled.reshape((X_test_scaled.shape[0], X_test_scaled.shape[1], 1))\n",
    "\n",
    "# Print the shapes\n",
    "print(\"X_train shape:\", X_train_reshaped.shape)\n",
    "print(\"X_test shape:\", X_test_reshaped.shape)\n",
    "\n",
    "# Build a simple RNN model\n",
    "model = keras.Sequential([\n",
    "    layers.SimpleRNN(units=64, activation='relu', input_shape=(X_train_reshaped.shape[1], X_train_reshaped.shape[2])),\n",
    "    layers.Dense(128, activation='relu'),\n",
    "    layers.Dense(y_train.shape[1], activation='softmax')\n",
    "])\n",
    "\n",
    "# Compile the model\n",
    "model.compile(optimizer='adam', loss='categorical_crossentropy', metrics=['accuracy'])\n",
    "\n",
    "# Train the model with more epochs\n",
    "model.fit(X_train_reshaped, y_train, epochs=30, batch_size=64, validation_split=0.2)\n",
    "\n",
    "# Evaluate the model on the test set\n",
    "y_pred_proba = model.predict(X_test_reshaped)\n",
    "y_pred = np.argmax(y_pred_proba, axis=1)\n",
    "\n",
    "# Evaluate the model performance\n",
    "accuracy = accuracy_score(np.argmax(y_test.values, axis=1), y_pred)\n",
    "precision = precision_score(np.argmax(y_test.values, axis=1), y_pred, average='weighted')\n",
    "recall = recall_score(np.argmax(y_test.values, axis=1), y_pred, average='weighted')\n",
    "\n",
    "print(f\"Accuracy: {accuracy:.4f}\")\n",
    "print(f\"Precision: {precision:.4f}\")\n",
    "print(f\"Recall: {recall:.4f}\")"
   ]
  },
  {
   "cell_type": "code",
   "execution_count": 2,
   "metadata": {},
   "outputs": [
    {
     "name": "stdout",
     "output_type": "stream",
     "text": [
      "1/1 [==============================] - 0s 16ms/step\n",
      "Predicted Output:\n",
      "no leak\n"
     ]
    }
   ],
   "source": [
    "user_input = {\n",
    "    'in_volume': float(input(\"Enter in_volume: \")),\n",
    "    'in_flowrate': float(input(\"Enter in_flowrate: \")),\n",
    "    'in_Pressure': float(input(\"Enter in_Pressure: \")),\n",
    "    'out_Volume': float(input(\"Enter out_Volume: \")),\n",
    "    'out_flowrate': float(input(\"Enter out_Flowrate: \")),\n",
    "    'Pressure_out': float(input(\"Enter Pressure_Out: \"))\n",
    "}\n",
    "\n",
    "user_df = pd.DataFrame([user_input])\n",
    "user_scaled = scaler.transform(user_df)\n",
    "user_reshaped = user_scaled.reshape((user_scaled.shape[0], user_scaled.shape[1], 1))\n",
    "user_pred_proba = model.predict(user_reshaped)\n",
    "user_pred = np.argmax(user_pred_proba, axis=1)\n",
    "vol_pred = user_pred_proba[0, 0]\n",
    "pres_pred = user_pred_proba[0, 1]\n",
    "output = \"\"\n",
    "if vol_pred and pres_pred == 0.0:\n",
    "    output = \"no leak\"\n",
    "elif (vol_pred and pres_pred == 1.0) or (vol_pred == 1.0 and pres_pred == 0.0):\n",
    "    output = \"leak\"\n",
    "else:\n",
    "    output = \"theaft\"\n",
    "print(\"Predicted Output:\")\n",
    "print(output)"
   ]
  },
  {
   "cell_type": "markdown",
   "metadata": {},
   "source": []
  },
  {
   "cell_type": "code",
   "execution_count": 4,
   "metadata": {},
   "outputs": [
    {
     "data": {
      "text/plain": [
       "['scaler.joblib']"
      ]
     },
     "execution_count": 4,
     "metadata": {},
     "output_type": "execute_result"
    }
   ],
   "source": [
    "import joblib\n",
    "joblib.dump(model,'model.joblib')\n",
    "joblib.dump(scaler, 'scaler.joblib')"
   ]
  },
  {
   "cell_type": "code",
   "execution_count": 5,
   "metadata": {},
   "outputs": [],
   "source": [
    "import pickle\n",
    "pickle.dump(model,open('model.pkl','wb'))\n",
    "pickle.dump(scaler,open('scaler.pkl','wb'))"
   ]
  },
  {
   "cell_type": "code",
   "execution_count": null,
   "metadata": {},
   "outputs": [],
   "source": []
  }
 ],
 "metadata": {
  "kernelspec": {
   "display_name": "pyt",
   "language": "python",
   "name": "python3"
  },
  "language_info": {
   "codemirror_mode": {
    "name": "ipython",
    "version": 3
   },
   "file_extension": ".py",
   "mimetype": "text/x-python",
   "name": "python",
   "nbconvert_exporter": "python",
   "pygments_lexer": "ipython3",
   "version": "3.9.0"
  }
 },
 "nbformat": 4,
 "nbformat_minor": 2
}
